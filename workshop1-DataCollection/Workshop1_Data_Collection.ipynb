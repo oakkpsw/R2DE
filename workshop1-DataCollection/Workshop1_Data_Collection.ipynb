{
  "nbformat": 4,
  "nbformat_minor": 0,
  "metadata": {
    "colab": {
      "provenance": []
    },
    "kernelspec": {
      "name": "python3",
      "display_name": "Python 3"
    },
    "language_info": {
      "name": "python"
    }
  },
  "cells": [
    {
      "cell_type": "markdown",
      "metadata": {
        "id": "IRz06BvaPvio"
      },
      "source": [
        "# Data Collection: มาเก็บรวบรวมข้อมูลจากแหล่งต่าง ๆ (DB & REST API) กันเถอะ!"
      ]
    },
    {
      "cell_type": "markdown",
      "metadata": {
        "id": "RUTnzKWg4UN1"
      },
      "source": [
        "# Data Collection: มาเก็บรวบรวมข้อมูลจากแหล่งต่าง ๆ (DB & REST API) \n"
      ]
    },
    {
      "cell_type": "markdown",
      "source": [],
      "metadata": {
        "id": "QIfeZ01u4eHQ"
      }
    },
    {
      "cell_type": "code",
      "source": [
        "! pip install pymysql"
      ],
      "metadata": {
        "colab": {
          "base_uri": "https://localhost:8080/"
        },
        "id": "ERRqqkm84kqW",
        "outputId": "e885d06a-f51a-4b3f-c105-ba5b805876a7"
      },
      "execution_count": null,
      "outputs": [
        {
          "output_type": "stream",
          "name": "stdout",
          "text": [
            "Looking in indexes: https://pypi.org/simple, https://us-python.pkg.dev/colab-wheels/public/simple/\n",
            "Collecting pymysql\n",
            "  Downloading PyMySQL-1.0.2-py3-none-any.whl (43 kB)\n",
            "\u001b[K     |████████████████████████████████| 43 kB 860 kB/s \n",
            "\u001b[?25hInstalling collected packages: pymysql\n",
            "Successfully installed pymysql-1.0.2\n"
          ]
        }
      ]
    },
    {
      "cell_type": "code",
      "source": [
        "!pip install python-dotenv"
      ],
      "metadata": {
        "colab": {
          "base_uri": "https://localhost:8080/"
        },
        "id": "Mi0ojm_X45KD",
        "outputId": "b7b04b6a-7bd8-4c90-a5ca-0578070d0275"
      },
      "execution_count": null,
      "outputs": [
        {
          "output_type": "stream",
          "name": "stdout",
          "text": [
            "Looking in indexes: https://pypi.org/simple, https://us-python.pkg.dev/colab-wheels/public/simple/\n",
            "Collecting python-dotenv\n",
            "  Downloading python_dotenv-0.21.0-py3-none-any.whl (18 kB)\n",
            "Installing collected packages: python-dotenv\n",
            "Successfully installed python-dotenv-0.21.0\n"
          ]
        }
      ]
    },
    {
      "cell_type": "code",
      "source": [
        "import os\n",
        "import pymysql\n",
        "import pandas as pd\n",
        "import requests\n",
        "from dotenv import load_dotenv"
      ],
      "metadata": {
        "id": "JpQDB3RQ40zx"
      },
      "execution_count": null,
      "outputs": []
    },
    {
      "cell_type": "code",
      "source": [
        "class Config:\n",
        "  MYSQL_HOST = os.getenv(\"MYSQL_HOST\")\n",
        "  MYSQL_PORT = int(os.getenv(\"MYSQL_PORT\"))\n",
        "  MYSQL_USER = os.getenv(\"MYSQL_USER\")\n",
        "  MYSQL_PASSWORD = os.getenv(\"MYSQL_PASSWORD\")\n",
        "  MYSQL_DB = os.getenv(\"MYSQL_DB\")\n",
        "  MYSQL_CHARSET = os.getenv(\"MYSQL_CHARSET\")"
      ],
      "metadata": {
        "id": "xmOeLLf45BSY"
      },
      "execution_count": null,
      "outputs": []
    },
    {
      "cell_type": "markdown",
      "metadata": {
        "id": "Me00m6uBleCK"
      },
      "source": [
        "\n",
        "\n",
        "## Connect to DB\n",
        "หลังจากที่มี Credential ของ database แล้วก็สร้าง connection โดยการ connect ไปที่ DB ด้วย Config ของเรา"
      ]
    },
    {
      "cell_type": "code",
      "source": [
        "connection = pymysql.connect(host=Config.MYSQL_HOST,\n",
        "                             port=Config.MYSQL_PORT,\n",
        "                             user=Config.MYSQL_USER,\n",
        "                             password=Config.MYSQL_PASSWORD,\n",
        "                             db=Config.MYSQL_DB,\n",
        "                             charset=Config.MYSQL_CHARSET,\n",
        "                             cursorclass=pymysql.cursors.DictCursor)"
      ],
      "metadata": {
        "id": "2Y_af9W45qPq"
      },
      "execution_count": null,
      "outputs": []
    },
    {
      "cell_type": "markdown",
      "source": [
        "#query ข้อมูลจาก table audible_data"
      ],
      "metadata": {
        "id": "AZXRwpnP54n7"
      }
    },
    {
      "cell_type": "code",
      "source": [
        "with connection.cursor() as cursor:\n",
        "  cursor.execute(\"select * from audible_data\")\n",
        "  result = cursor.fetchall()\n",
        "\n",
        "result[:3]"
      ],
      "metadata": {
        "colab": {
          "base_uri": "https://localhost:8080/"
        },
        "id": "zETDnAyV51ZA",
        "outputId": "1a9a1806-95c1-4ea4-d009-9422703cc513"
      },
      "execution_count": 44,
      "outputs": [
        {
          "output_type": "execute_result",
          "data": {
            "text/plain": [
              "[{'Book_ID': 1,\n",
              "  'Book Title': 'Bamboozled by Jesus',\n",
              "  'Book Subtitle': 'How God Tricked Me into the Life of My Dreams',\n",
              "  'Book Author': 'Yvonne Orji',\n",
              "  'Book Narrator': 'Yvonne Orji',\n",
              "  'Audio Runtime': '6 hrs and 31 mins',\n",
              "  'Audiobook_Type': 'Unabridged Audiobook',\n",
              "  'Categories': 'Biographies & Memoirs',\n",
              "  'Rating': '5',\n",
              "  'Total No. of Ratings': 47,\n",
              "  'Price': '$29.65 '},\n",
              " {'Book_ID': 2,\n",
              "  'Book Title': 'Sixth Realm Part 1',\n",
              "  'Book Subtitle': 'A LitRPG Fantasy Series (The Ten Realms, Book 6)',\n",
              "  'Book Author': 'Michael Chatfield',\n",
              "  'Book Narrator': 'Neil Hellegers',\n",
              "  'Audio Runtime': '13 hrs and 33 mins',\n",
              "  'Audiobook_Type': 'Unabridged Audiobook',\n",
              "  'Categories': 'Science Fiction & Fantasy',\n",
              "  'Rating': '4.5',\n",
              "  'Total No. of Ratings': 98,\n",
              "  'Price': '$24.95 '},\n",
              " {'Book_ID': 3,\n",
              "  'Book Title': 'Go Tell the Bees That I Am Gone',\n",
              "  'Book Subtitle': 'Outlander, Book 9',\n",
              "  'Book Author': 'Diana Gabaldon',\n",
              "  'Book Narrator': 'Davina Porter',\n",
              "  'Audio Runtime': '27 hrs and 30 mins',\n",
              "  'Audiobook_Type': 'Unabridged Audiobook',\n",
              "  'Categories': 'Science Fiction & Fantasy',\n",
              "  'Rating': None,\n",
              "  'Total No. of Ratings': None,\n",
              "  'Price': '$41.99 '}]"
            ]
          },
          "metadata": {},
          "execution_count": 44
        }
      ]
    },
    {
      "cell_type": "markdown",
      "source": [
        "#result เป็น list ใช้งานลำบา convert to Pandas"
      ],
      "metadata": {
        "id": "f--0dMtK6CVa"
      }
    },
    {
      "cell_type": "code",
      "source": [
        "audible_data = pd.DataFrame(result)"
      ],
      "metadata": {
        "id": "5vhq-r4w6FCP"
      },
      "execution_count": null,
      "outputs": []
    },
    {
      "cell_type": "code",
      "source": [
        "audible_data.head(3)"
      ],
      "metadata": {
        "colab": {
          "base_uri": "https://localhost:8080/",
          "height": 292
        },
        "id": "hayBvRy96Joj",
        "outputId": "6617bb43-15cf-468d-cfc0-540b4d786f25"
      },
      "execution_count": null,
      "outputs": [
        {
          "output_type": "execute_result",
          "data": {
            "text/plain": [
              "   Book_ID                       Book Title  \\\n",
              "0        1              Bamboozled by Jesus   \n",
              "1        2               Sixth Realm Part 1   \n",
              "2        3  Go Tell the Bees That I Am Gone   \n",
              "\n",
              "                                      Book Subtitle        Book Author  \\\n",
              "0     How God Tricked Me into the Life of My Dreams        Yvonne Orji   \n",
              "1  A LitRPG Fantasy Series (The Ten Realms, Book 6)  Michael Chatfield   \n",
              "2                                 Outlander, Book 9     Diana Gabaldon   \n",
              "\n",
              "    Book Narrator       Audio Runtime        Audiobook_Type  \\\n",
              "0     Yvonne Orji   6 hrs and 31 mins  Unabridged Audiobook   \n",
              "1  Neil Hellegers  13 hrs and 33 mins  Unabridged Audiobook   \n",
              "2   Davina Porter  27 hrs and 30 mins  Unabridged Audiobook   \n",
              "\n",
              "                  Categories Rating  Total No. of Ratings    Price  \n",
              "0      Biographies & Memoirs      5                  47.0  $29.65   \n",
              "1  Science Fiction & Fantasy    4.5                  98.0  $24.95   \n",
              "2  Science Fiction & Fantasy   None                   NaN  $41.99   "
            ],
            "text/html": [
              "\n",
              "  <div id=\"df-96b74c2e-a1d0-4261-895e-987fc77a3bbd\">\n",
              "    <div class=\"colab-df-container\">\n",
              "      <div>\n",
              "<style scoped>\n",
              "    .dataframe tbody tr th:only-of-type {\n",
              "        vertical-align: middle;\n",
              "    }\n",
              "\n",
              "    .dataframe tbody tr th {\n",
              "        vertical-align: top;\n",
              "    }\n",
              "\n",
              "    .dataframe thead th {\n",
              "        text-align: right;\n",
              "    }\n",
              "</style>\n",
              "<table border=\"1\" class=\"dataframe\">\n",
              "  <thead>\n",
              "    <tr style=\"text-align: right;\">\n",
              "      <th></th>\n",
              "      <th>Book_ID</th>\n",
              "      <th>Book Title</th>\n",
              "      <th>Book Subtitle</th>\n",
              "      <th>Book Author</th>\n",
              "      <th>Book Narrator</th>\n",
              "      <th>Audio Runtime</th>\n",
              "      <th>Audiobook_Type</th>\n",
              "      <th>Categories</th>\n",
              "      <th>Rating</th>\n",
              "      <th>Total No. of Ratings</th>\n",
              "      <th>Price</th>\n",
              "    </tr>\n",
              "  </thead>\n",
              "  <tbody>\n",
              "    <tr>\n",
              "      <th>0</th>\n",
              "      <td>1</td>\n",
              "      <td>Bamboozled by Jesus</td>\n",
              "      <td>How God Tricked Me into the Life of My Dreams</td>\n",
              "      <td>Yvonne Orji</td>\n",
              "      <td>Yvonne Orji</td>\n",
              "      <td>6 hrs and 31 mins</td>\n",
              "      <td>Unabridged Audiobook</td>\n",
              "      <td>Biographies &amp; Memoirs</td>\n",
              "      <td>5</td>\n",
              "      <td>47.0</td>\n",
              "      <td>$29.65</td>\n",
              "    </tr>\n",
              "    <tr>\n",
              "      <th>1</th>\n",
              "      <td>2</td>\n",
              "      <td>Sixth Realm Part 1</td>\n",
              "      <td>A LitRPG Fantasy Series (The Ten Realms, Book 6)</td>\n",
              "      <td>Michael Chatfield</td>\n",
              "      <td>Neil Hellegers</td>\n",
              "      <td>13 hrs and 33 mins</td>\n",
              "      <td>Unabridged Audiobook</td>\n",
              "      <td>Science Fiction &amp; Fantasy</td>\n",
              "      <td>4.5</td>\n",
              "      <td>98.0</td>\n",
              "      <td>$24.95</td>\n",
              "    </tr>\n",
              "    <tr>\n",
              "      <th>2</th>\n",
              "      <td>3</td>\n",
              "      <td>Go Tell the Bees That I Am Gone</td>\n",
              "      <td>Outlander, Book 9</td>\n",
              "      <td>Diana Gabaldon</td>\n",
              "      <td>Davina Porter</td>\n",
              "      <td>27 hrs and 30 mins</td>\n",
              "      <td>Unabridged Audiobook</td>\n",
              "      <td>Science Fiction &amp; Fantasy</td>\n",
              "      <td>None</td>\n",
              "      <td>NaN</td>\n",
              "      <td>$41.99</td>\n",
              "    </tr>\n",
              "  </tbody>\n",
              "</table>\n",
              "</div>\n",
              "      <button class=\"colab-df-convert\" onclick=\"convertToInteractive('df-96b74c2e-a1d0-4261-895e-987fc77a3bbd')\"\n",
              "              title=\"Convert this dataframe to an interactive table.\"\n",
              "              style=\"display:none;\">\n",
              "        \n",
              "  <svg xmlns=\"http://www.w3.org/2000/svg\" height=\"24px\"viewBox=\"0 0 24 24\"\n",
              "       width=\"24px\">\n",
              "    <path d=\"M0 0h24v24H0V0z\" fill=\"none\"/>\n",
              "    <path d=\"M18.56 5.44l.94 2.06.94-2.06 2.06-.94-2.06-.94-.94-2.06-.94 2.06-2.06.94zm-11 1L8.5 8.5l.94-2.06 2.06-.94-2.06-.94L8.5 2.5l-.94 2.06-2.06.94zm10 10l.94 2.06.94-2.06 2.06-.94-2.06-.94-.94-2.06-.94 2.06-2.06.94z\"/><path d=\"M17.41 7.96l-1.37-1.37c-.4-.4-.92-.59-1.43-.59-.52 0-1.04.2-1.43.59L10.3 9.45l-7.72 7.72c-.78.78-.78 2.05 0 2.83L4 21.41c.39.39.9.59 1.41.59.51 0 1.02-.2 1.41-.59l7.78-7.78 2.81-2.81c.8-.78.8-2.07 0-2.86zM5.41 20L4 18.59l7.72-7.72 1.47 1.35L5.41 20z\"/>\n",
              "  </svg>\n",
              "      </button>\n",
              "      \n",
              "  <style>\n",
              "    .colab-df-container {\n",
              "      display:flex;\n",
              "      flex-wrap:wrap;\n",
              "      gap: 12px;\n",
              "    }\n",
              "\n",
              "    .colab-df-convert {\n",
              "      background-color: #E8F0FE;\n",
              "      border: none;\n",
              "      border-radius: 50%;\n",
              "      cursor: pointer;\n",
              "      display: none;\n",
              "      fill: #1967D2;\n",
              "      height: 32px;\n",
              "      padding: 0 0 0 0;\n",
              "      width: 32px;\n",
              "    }\n",
              "\n",
              "    .colab-df-convert:hover {\n",
              "      background-color: #E2EBFA;\n",
              "      box-shadow: 0px 1px 2px rgba(60, 64, 67, 0.3), 0px 1px 3px 1px rgba(60, 64, 67, 0.15);\n",
              "      fill: #174EA6;\n",
              "    }\n",
              "\n",
              "    [theme=dark] .colab-df-convert {\n",
              "      background-color: #3B4455;\n",
              "      fill: #D2E3FC;\n",
              "    }\n",
              "\n",
              "    [theme=dark] .colab-df-convert:hover {\n",
              "      background-color: #434B5C;\n",
              "      box-shadow: 0px 1px 3px 1px rgba(0, 0, 0, 0.15);\n",
              "      filter: drop-shadow(0px 1px 2px rgba(0, 0, 0, 0.3));\n",
              "      fill: #FFFFFF;\n",
              "    }\n",
              "  </style>\n",
              "\n",
              "      <script>\n",
              "        const buttonEl =\n",
              "          document.querySelector('#df-96b74c2e-a1d0-4261-895e-987fc77a3bbd button.colab-df-convert');\n",
              "        buttonEl.style.display =\n",
              "          google.colab.kernel.accessAllowed ? 'block' : 'none';\n",
              "\n",
              "        async function convertToInteractive(key) {\n",
              "          const element = document.querySelector('#df-96b74c2e-a1d0-4261-895e-987fc77a3bbd');\n",
              "          const dataTable =\n",
              "            await google.colab.kernel.invokeFunction('convertToInteractive',\n",
              "                                                     [key], {});\n",
              "          if (!dataTable) return;\n",
              "\n",
              "          const docLinkHtml = 'Like what you see? Visit the ' +\n",
              "            '<a target=\"_blank\" href=https://colab.research.google.com/notebooks/data_table.ipynb>data table notebook</a>'\n",
              "            + ' to learn more about interactive tables.';\n",
              "          element.innerHTML = '';\n",
              "          dataTable['output_type'] = 'display_data';\n",
              "          await google.colab.output.renderOutput(dataTable, element);\n",
              "          const docLink = document.createElement('div');\n",
              "          docLink.innerHTML = docLinkHtml;\n",
              "          element.appendChild(docLink);\n",
              "        }\n",
              "      </script>\n",
              "    </div>\n",
              "  </div>\n",
              "  "
            ]
          },
          "metadata": {},
          "execution_count": 17
        }
      ]
    },
    {
      "cell_type": "markdown",
      "source": [
        "# อีกวิธีในการอ่าน table ใช้ sql\n"
      ],
      "metadata": {
        "id": "mCpidAju6dUV"
      }
    },
    {
      "cell_type": "code",
      "source": [
        "sql = \"SELECT * FROM audible_transaction\"\n",
        "audible_transaction = pd.read_sql(sql, connection)\n",
        "audible_transaction.head(10)"
      ],
      "metadata": {
        "colab": {
          "base_uri": "https://localhost:8080/",
          "height": 363
        },
        "id": "vv7gRAB06cmI",
        "outputId": "9b67e6a1-df9f-480e-b011-09af0bbc0202"
      },
      "execution_count": null,
      "outputs": [
        {
          "output_type": "execute_result",
          "data": {
            "text/plain": [
              "            timestamp   user_id  book_id                   country\n",
              "0 2021-05-01 00:00:01  ad8eca41     1584                  Portugal\n",
              "1 2021-05-01 00:00:03  561b26c1      829  United States of America\n",
              "2 2021-05-01 00:00:04  81f149e5     1391                     Japan\n",
              "3 2021-05-01 00:00:07  4f218413     1586                    Taiwan\n",
              "4 2021-05-01 00:00:18  a4066781      300  United States of America\n",
              "5 2021-05-01 00:00:21  bbbd603a     1377  United States of America\n",
              "6 2021-05-01 00:00:22  f636754b      342                    Canada\n",
              "7 2021-05-01 00:00:26  0eea4bbd     1600  United States of America\n",
              "8 2021-05-01 00:00:26  30b900d5     1556                   Algeria\n",
              "9 2021-05-01 00:00:28  a208d42a      790  United States of America"
            ],
            "text/html": [
              "\n",
              "  <div id=\"df-87714ca6-3f2b-4711-95d2-a29f52bb3a2b\">\n",
              "    <div class=\"colab-df-container\">\n",
              "      <div>\n",
              "<style scoped>\n",
              "    .dataframe tbody tr th:only-of-type {\n",
              "        vertical-align: middle;\n",
              "    }\n",
              "\n",
              "    .dataframe tbody tr th {\n",
              "        vertical-align: top;\n",
              "    }\n",
              "\n",
              "    .dataframe thead th {\n",
              "        text-align: right;\n",
              "    }\n",
              "</style>\n",
              "<table border=\"1\" class=\"dataframe\">\n",
              "  <thead>\n",
              "    <tr style=\"text-align: right;\">\n",
              "      <th></th>\n",
              "      <th>timestamp</th>\n",
              "      <th>user_id</th>\n",
              "      <th>book_id</th>\n",
              "      <th>country</th>\n",
              "    </tr>\n",
              "  </thead>\n",
              "  <tbody>\n",
              "    <tr>\n",
              "      <th>0</th>\n",
              "      <td>2021-05-01 00:00:01</td>\n",
              "      <td>ad8eca41</td>\n",
              "      <td>1584</td>\n",
              "      <td>Portugal</td>\n",
              "    </tr>\n",
              "    <tr>\n",
              "      <th>1</th>\n",
              "      <td>2021-05-01 00:00:03</td>\n",
              "      <td>561b26c1</td>\n",
              "      <td>829</td>\n",
              "      <td>United States of America</td>\n",
              "    </tr>\n",
              "    <tr>\n",
              "      <th>2</th>\n",
              "      <td>2021-05-01 00:00:04</td>\n",
              "      <td>81f149e5</td>\n",
              "      <td>1391</td>\n",
              "      <td>Japan</td>\n",
              "    </tr>\n",
              "    <tr>\n",
              "      <th>3</th>\n",
              "      <td>2021-05-01 00:00:07</td>\n",
              "      <td>4f218413</td>\n",
              "      <td>1586</td>\n",
              "      <td>Taiwan</td>\n",
              "    </tr>\n",
              "    <tr>\n",
              "      <th>4</th>\n",
              "      <td>2021-05-01 00:00:18</td>\n",
              "      <td>a4066781</td>\n",
              "      <td>300</td>\n",
              "      <td>United States of America</td>\n",
              "    </tr>\n",
              "    <tr>\n",
              "      <th>5</th>\n",
              "      <td>2021-05-01 00:00:21</td>\n",
              "      <td>bbbd603a</td>\n",
              "      <td>1377</td>\n",
              "      <td>United States of America</td>\n",
              "    </tr>\n",
              "    <tr>\n",
              "      <th>6</th>\n",
              "      <td>2021-05-01 00:00:22</td>\n",
              "      <td>f636754b</td>\n",
              "      <td>342</td>\n",
              "      <td>Canada</td>\n",
              "    </tr>\n",
              "    <tr>\n",
              "      <th>7</th>\n",
              "      <td>2021-05-01 00:00:26</td>\n",
              "      <td>0eea4bbd</td>\n",
              "      <td>1600</td>\n",
              "      <td>United States of America</td>\n",
              "    </tr>\n",
              "    <tr>\n",
              "      <th>8</th>\n",
              "      <td>2021-05-01 00:00:26</td>\n",
              "      <td>30b900d5</td>\n",
              "      <td>1556</td>\n",
              "      <td>Algeria</td>\n",
              "    </tr>\n",
              "    <tr>\n",
              "      <th>9</th>\n",
              "      <td>2021-05-01 00:00:28</td>\n",
              "      <td>a208d42a</td>\n",
              "      <td>790</td>\n",
              "      <td>United States of America</td>\n",
              "    </tr>\n",
              "  </tbody>\n",
              "</table>\n",
              "</div>\n",
              "      <button class=\"colab-df-convert\" onclick=\"convertToInteractive('df-87714ca6-3f2b-4711-95d2-a29f52bb3a2b')\"\n",
              "              title=\"Convert this dataframe to an interactive table.\"\n",
              "              style=\"display:none;\">\n",
              "        \n",
              "  <svg xmlns=\"http://www.w3.org/2000/svg\" height=\"24px\"viewBox=\"0 0 24 24\"\n",
              "       width=\"24px\">\n",
              "    <path d=\"M0 0h24v24H0V0z\" fill=\"none\"/>\n",
              "    <path d=\"M18.56 5.44l.94 2.06.94-2.06 2.06-.94-2.06-.94-.94-2.06-.94 2.06-2.06.94zm-11 1L8.5 8.5l.94-2.06 2.06-.94-2.06-.94L8.5 2.5l-.94 2.06-2.06.94zm10 10l.94 2.06.94-2.06 2.06-.94-2.06-.94-.94-2.06-.94 2.06-2.06.94z\"/><path d=\"M17.41 7.96l-1.37-1.37c-.4-.4-.92-.59-1.43-.59-.52 0-1.04.2-1.43.59L10.3 9.45l-7.72 7.72c-.78.78-.78 2.05 0 2.83L4 21.41c.39.39.9.59 1.41.59.51 0 1.02-.2 1.41-.59l7.78-7.78 2.81-2.81c.8-.78.8-2.07 0-2.86zM5.41 20L4 18.59l7.72-7.72 1.47 1.35L5.41 20z\"/>\n",
              "  </svg>\n",
              "      </button>\n",
              "      \n",
              "  <style>\n",
              "    .colab-df-container {\n",
              "      display:flex;\n",
              "      flex-wrap:wrap;\n",
              "      gap: 12px;\n",
              "    }\n",
              "\n",
              "    .colab-df-convert {\n",
              "      background-color: #E8F0FE;\n",
              "      border: none;\n",
              "      border-radius: 50%;\n",
              "      cursor: pointer;\n",
              "      display: none;\n",
              "      fill: #1967D2;\n",
              "      height: 32px;\n",
              "      padding: 0 0 0 0;\n",
              "      width: 32px;\n",
              "    }\n",
              "\n",
              "    .colab-df-convert:hover {\n",
              "      background-color: #E2EBFA;\n",
              "      box-shadow: 0px 1px 2px rgba(60, 64, 67, 0.3), 0px 1px 3px 1px rgba(60, 64, 67, 0.15);\n",
              "      fill: #174EA6;\n",
              "    }\n",
              "\n",
              "    [theme=dark] .colab-df-convert {\n",
              "      background-color: #3B4455;\n",
              "      fill: #D2E3FC;\n",
              "    }\n",
              "\n",
              "    [theme=dark] .colab-df-convert:hover {\n",
              "      background-color: #434B5C;\n",
              "      box-shadow: 0px 1px 3px 1px rgba(0, 0, 0, 0.15);\n",
              "      filter: drop-shadow(0px 1px 2px rgba(0, 0, 0, 0.3));\n",
              "      fill: #FFFFFF;\n",
              "    }\n",
              "  </style>\n",
              "\n",
              "      <script>\n",
              "        const buttonEl =\n",
              "          document.querySelector('#df-87714ca6-3f2b-4711-95d2-a29f52bb3a2b button.colab-df-convert');\n",
              "        buttonEl.style.display =\n",
              "          google.colab.kernel.accessAllowed ? 'block' : 'none';\n",
              "\n",
              "        async function convertToInteractive(key) {\n",
              "          const element = document.querySelector('#df-87714ca6-3f2b-4711-95d2-a29f52bb3a2b');\n",
              "          const dataTable =\n",
              "            await google.colab.kernel.invokeFunction('convertToInteractive',\n",
              "                                                     [key], {});\n",
              "          if (!dataTable) return;\n",
              "\n",
              "          const docLinkHtml = 'Like what you see? Visit the ' +\n",
              "            '<a target=\"_blank\" href=https://colab.research.google.com/notebooks/data_table.ipynb>data table notebook</a>'\n",
              "            + ' to learn more about interactive tables.';\n",
              "          element.innerHTML = '';\n",
              "          dataTable['output_type'] = 'display_data';\n",
              "          await google.colab.output.renderOutput(dataTable, element);\n",
              "          const docLink = document.createElement('div');\n",
              "          docLink.innerHTML = docLinkHtml;\n",
              "          element.appendChild(docLink);\n",
              "        }\n",
              "      </script>\n",
              "    </div>\n",
              "  </div>\n",
              "  "
            ]
          },
          "metadata": {},
          "execution_count": 22
        }
      ]
    },
    {
      "cell_type": "markdown",
      "source": [
        "#Join table: audible_transaction & audible_data"
      ],
      "metadata": {
        "id": "4q-2jSkl7Cza"
      }
    },
    {
      "cell_type": "code",
      "source": [
        "transaction = audible_transaction.merge(audible_data, how=\"left\", left_on=\"book_id\", right_on=\"Book_ID\")"
      ],
      "metadata": {
        "id": "Tu-fAeul7ENC"
      },
      "execution_count": null,
      "outputs": []
    },
    {
      "cell_type": "markdown",
      "source": [
        "#Get data from REST API"
      ],
      "metadata": {
        "id": "DKVWrGdA7HRw"
      }
    },
    {
      "cell_type": "code",
      "source": [
        "url = \"https://r2de2-workshop-vmftiryt6q-ts.a.run.app/usd_thb_conversion_rate\"\n",
        "result_conversion_rate = requests.get(url)\n",
        "result_conversion_rate = result_conversion_rate.json()\n",
        "conversion_rate = pd.DataFrame(result_conversion_rate)\n",
        "#แปลงจาก index เป็น column date ธรรมดาเพื่อความสะดวกในการ join กับ table transaction\n",
        "conversion_rate = conversion_rate.reset_index().rename(columns={\"index\": \"date\"})"
      ],
      "metadata": {
        "id": "_uUL8uMs7I_R"
      },
      "execution_count": null,
      "outputs": []
    },
    {
      "cell_type": "markdown",
      "source": [
        "#Join the data transaction & conversion rate"
      ],
      "metadata": {
        "id": "rLYmL3Xb7TCI"
      }
    },
    {
      "cell_type": "code",
      "source": [
        "transaction.dtypes"
      ],
      "metadata": {
        "id": "W9HOta3X8SIw"
      },
      "execution_count": null,
      "outputs": []
    },
    {
      "cell_type": "code",
      "source": [
        "conversion_rate.dtypes"
      ],
      "metadata": {
        "id": "cFcr2Cyl8Tgp"
      },
      "execution_count": null,
      "outputs": []
    },
    {
      "cell_type": "code",
      "source": [
        "# ก็อปปี้ column timestamp เก็บเอาไว้ใน column ใหม่ชื่อ date เพื่อที่จะแปลงวันที่เป็น date เพื่อที่จะสามารถนำมา join กับข้อมูลค่าเงินได้\n",
        "transaction['date'] = transaction['timestamp']\n",
        "\n",
        "# แปลงให้จาก timestamp เป็น date ในทั้ง 2 dataframe (transaction, conversion_rate)\n",
        "transaction['date'] = pd.to_datetime(transaction['date']).dt.date\n",
        "conversion_rate['date'] = pd.to_datetime(conversion_rate['date']).dt.date\n",
        "final_df = transaction.merge(conversion_rate, how=\"left\", left_on=\"date\", right_on=\"date\")"
      ],
      "metadata": {
        "id": "NKL1fdns7ZYZ"
      },
      "execution_count": null,
      "outputs": []
    },
    {
      "cell_type": "code",
      "source": [
        "final_df.head(3)"
      ],
      "metadata": {
        "colab": {
          "base_uri": "https://localhost:8080/",
          "height": 381
        },
        "id": "1qqRBXf17joi",
        "outputId": "ab4bef90-c16c-45c9-c4c3-5fd82066866f"
      },
      "execution_count": null,
      "outputs": [
        {
          "output_type": "execute_result",
          "data": {
            "text/plain": [
              "            timestamp   user_id  book_id                   country  Book_ID  \\\n",
              "0 2021-05-01 00:00:01  ad8eca41     1584                  Portugal     1584   \n",
              "1 2021-05-01 00:00:03  561b26c1      829  United States of America      829   \n",
              "2 2021-05-01 00:00:04  81f149e5     1391                     Japan     1391   \n",
              "\n",
              "                         Book Title  \\\n",
              "0                      Sycamore Row   \n",
              "1  The 5 Love Languages of Children   \n",
              "2                     The Guardians   \n",
              "\n",
              "                               Book Subtitle   Book Author Book Narrator  \\\n",
              "0                                       None  John Grisham  Michael Beck   \n",
              "1  The Secret to Loving Children Effectively  Gary Chapman   Chris Fabry   \n",
              "2                                    A Novel  John Grisham  Michael Beck   \n",
              "\n",
              "        Audio Runtime        Audiobook_Type  \\\n",
              "0  20 hrs and 46 mins  Unabridged Audiobook   \n",
              "1   5 hrs and 48 mins  Unabridged Audiobook   \n",
              "2  11 hrs and 50 mins  Unabridged Audiobook   \n",
              "\n",
              "                                        Categories Rating  \\\n",
              "0                     Mystery, Thriller & Suspense    4.6   \n",
              "1  Relationships, Parenting & Personal Development    4.8   \n",
              "2                     Mystery, Thriller & Suspense    4.6   \n",
              "\n",
              "   Total No. of Ratings    Price        date  conversion_rate  \n",
              "0               25863.0  $35.00   2021-05-01            31.14  \n",
              "1                2441.0  $19.59   2021-05-01            31.14  \n",
              "2               26781.0  $31.50   2021-05-01            31.14  "
            ],
            "text/html": [
              "\n",
              "  <div id=\"df-4a98d7c0-8063-4fd7-a8c0-fe72c0d03a8f\">\n",
              "    <div class=\"colab-df-container\">\n",
              "      <div>\n",
              "<style scoped>\n",
              "    .dataframe tbody tr th:only-of-type {\n",
              "        vertical-align: middle;\n",
              "    }\n",
              "\n",
              "    .dataframe tbody tr th {\n",
              "        vertical-align: top;\n",
              "    }\n",
              "\n",
              "    .dataframe thead th {\n",
              "        text-align: right;\n",
              "    }\n",
              "</style>\n",
              "<table border=\"1\" class=\"dataframe\">\n",
              "  <thead>\n",
              "    <tr style=\"text-align: right;\">\n",
              "      <th></th>\n",
              "      <th>timestamp</th>\n",
              "      <th>user_id</th>\n",
              "      <th>book_id</th>\n",
              "      <th>country</th>\n",
              "      <th>Book_ID</th>\n",
              "      <th>Book Title</th>\n",
              "      <th>Book Subtitle</th>\n",
              "      <th>Book Author</th>\n",
              "      <th>Book Narrator</th>\n",
              "      <th>Audio Runtime</th>\n",
              "      <th>Audiobook_Type</th>\n",
              "      <th>Categories</th>\n",
              "      <th>Rating</th>\n",
              "      <th>Total No. of Ratings</th>\n",
              "      <th>Price</th>\n",
              "      <th>date</th>\n",
              "      <th>conversion_rate</th>\n",
              "    </tr>\n",
              "  </thead>\n",
              "  <tbody>\n",
              "    <tr>\n",
              "      <th>0</th>\n",
              "      <td>2021-05-01 00:00:01</td>\n",
              "      <td>ad8eca41</td>\n",
              "      <td>1584</td>\n",
              "      <td>Portugal</td>\n",
              "      <td>1584</td>\n",
              "      <td>Sycamore Row</td>\n",
              "      <td>None</td>\n",
              "      <td>John Grisham</td>\n",
              "      <td>Michael Beck</td>\n",
              "      <td>20 hrs and 46 mins</td>\n",
              "      <td>Unabridged Audiobook</td>\n",
              "      <td>Mystery, Thriller &amp; Suspense</td>\n",
              "      <td>4.6</td>\n",
              "      <td>25863.0</td>\n",
              "      <td>$35.00</td>\n",
              "      <td>2021-05-01</td>\n",
              "      <td>31.14</td>\n",
              "    </tr>\n",
              "    <tr>\n",
              "      <th>1</th>\n",
              "      <td>2021-05-01 00:00:03</td>\n",
              "      <td>561b26c1</td>\n",
              "      <td>829</td>\n",
              "      <td>United States of America</td>\n",
              "      <td>829</td>\n",
              "      <td>The 5 Love Languages of Children</td>\n",
              "      <td>The Secret to Loving Children Effectively</td>\n",
              "      <td>Gary Chapman</td>\n",
              "      <td>Chris Fabry</td>\n",
              "      <td>5 hrs and 48 mins</td>\n",
              "      <td>Unabridged Audiobook</td>\n",
              "      <td>Relationships, Parenting &amp; Personal Development</td>\n",
              "      <td>4.8</td>\n",
              "      <td>2441.0</td>\n",
              "      <td>$19.59</td>\n",
              "      <td>2021-05-01</td>\n",
              "      <td>31.14</td>\n",
              "    </tr>\n",
              "    <tr>\n",
              "      <th>2</th>\n",
              "      <td>2021-05-01 00:00:04</td>\n",
              "      <td>81f149e5</td>\n",
              "      <td>1391</td>\n",
              "      <td>Japan</td>\n",
              "      <td>1391</td>\n",
              "      <td>The Guardians</td>\n",
              "      <td>A Novel</td>\n",
              "      <td>John Grisham</td>\n",
              "      <td>Michael Beck</td>\n",
              "      <td>11 hrs and 50 mins</td>\n",
              "      <td>Unabridged Audiobook</td>\n",
              "      <td>Mystery, Thriller &amp; Suspense</td>\n",
              "      <td>4.6</td>\n",
              "      <td>26781.0</td>\n",
              "      <td>$31.50</td>\n",
              "      <td>2021-05-01</td>\n",
              "      <td>31.14</td>\n",
              "    </tr>\n",
              "  </tbody>\n",
              "</table>\n",
              "</div>\n",
              "      <button class=\"colab-df-convert\" onclick=\"convertToInteractive('df-4a98d7c0-8063-4fd7-a8c0-fe72c0d03a8f')\"\n",
              "              title=\"Convert this dataframe to an interactive table.\"\n",
              "              style=\"display:none;\">\n",
              "        \n",
              "  <svg xmlns=\"http://www.w3.org/2000/svg\" height=\"24px\"viewBox=\"0 0 24 24\"\n",
              "       width=\"24px\">\n",
              "    <path d=\"M0 0h24v24H0V0z\" fill=\"none\"/>\n",
              "    <path d=\"M18.56 5.44l.94 2.06.94-2.06 2.06-.94-2.06-.94-.94-2.06-.94 2.06-2.06.94zm-11 1L8.5 8.5l.94-2.06 2.06-.94-2.06-.94L8.5 2.5l-.94 2.06-2.06.94zm10 10l.94 2.06.94-2.06 2.06-.94-2.06-.94-.94-2.06-.94 2.06-2.06.94z\"/><path d=\"M17.41 7.96l-1.37-1.37c-.4-.4-.92-.59-1.43-.59-.52 0-1.04.2-1.43.59L10.3 9.45l-7.72 7.72c-.78.78-.78 2.05 0 2.83L4 21.41c.39.39.9.59 1.41.59.51 0 1.02-.2 1.41-.59l7.78-7.78 2.81-2.81c.8-.78.8-2.07 0-2.86zM5.41 20L4 18.59l7.72-7.72 1.47 1.35L5.41 20z\"/>\n",
              "  </svg>\n",
              "      </button>\n",
              "      \n",
              "  <style>\n",
              "    .colab-df-container {\n",
              "      display:flex;\n",
              "      flex-wrap:wrap;\n",
              "      gap: 12px;\n",
              "    }\n",
              "\n",
              "    .colab-df-convert {\n",
              "      background-color: #E8F0FE;\n",
              "      border: none;\n",
              "      border-radius: 50%;\n",
              "      cursor: pointer;\n",
              "      display: none;\n",
              "      fill: #1967D2;\n",
              "      height: 32px;\n",
              "      padding: 0 0 0 0;\n",
              "      width: 32px;\n",
              "    }\n",
              "\n",
              "    .colab-df-convert:hover {\n",
              "      background-color: #E2EBFA;\n",
              "      box-shadow: 0px 1px 2px rgba(60, 64, 67, 0.3), 0px 1px 3px 1px rgba(60, 64, 67, 0.15);\n",
              "      fill: #174EA6;\n",
              "    }\n",
              "\n",
              "    [theme=dark] .colab-df-convert {\n",
              "      background-color: #3B4455;\n",
              "      fill: #D2E3FC;\n",
              "    }\n",
              "\n",
              "    [theme=dark] .colab-df-convert:hover {\n",
              "      background-color: #434B5C;\n",
              "      box-shadow: 0px 1px 3px 1px rgba(0, 0, 0, 0.15);\n",
              "      filter: drop-shadow(0px 1px 2px rgba(0, 0, 0, 0.3));\n",
              "      fill: #FFFFFF;\n",
              "    }\n",
              "  </style>\n",
              "\n",
              "      <script>\n",
              "        const buttonEl =\n",
              "          document.querySelector('#df-4a98d7c0-8063-4fd7-a8c0-fe72c0d03a8f button.colab-df-convert');\n",
              "        buttonEl.style.display =\n",
              "          google.colab.kernel.accessAllowed ? 'block' : 'none';\n",
              "\n",
              "        async function convertToInteractive(key) {\n",
              "          const element = document.querySelector('#df-4a98d7c0-8063-4fd7-a8c0-fe72c0d03a8f');\n",
              "          const dataTable =\n",
              "            await google.colab.kernel.invokeFunction('convertToInteractive',\n",
              "                                                     [key], {});\n",
              "          if (!dataTable) return;\n",
              "\n",
              "          const docLinkHtml = 'Like what you see? Visit the ' +\n",
              "            '<a target=\"_blank\" href=https://colab.research.google.com/notebooks/data_table.ipynb>data table notebook</a>'\n",
              "            + ' to learn more about interactive tables.';\n",
              "          element.innerHTML = '';\n",
              "          dataTable['output_type'] = 'display_data';\n",
              "          await google.colab.output.renderOutput(dataTable, element);\n",
              "          const docLink = document.createElement('div');\n",
              "          docLink.innerHTML = docLinkHtml;\n",
              "          element.appendChild(docLink);\n",
              "        }\n",
              "      </script>\n",
              "    </div>\n",
              "  </div>\n",
              "  "
            ]
          },
          "metadata": {},
          "execution_count": 29
        }
      ]
    },
    {
      "cell_type": "code",
      "source": [
        "final_df.dtypes"
      ],
      "metadata": {
        "colab": {
          "base_uri": "https://localhost:8080/"
        },
        "id": "5WlpVP4V8FwV",
        "outputId": "9f448f0c-1485-4e2a-b0fe-040a3ad4f1da"
      },
      "execution_count": null,
      "outputs": [
        {
          "output_type": "execute_result",
          "data": {
            "text/plain": [
              "timestamp               datetime64[ns]\n",
              "user_id                         object\n",
              "book_id                          int64\n",
              "country                         object\n",
              "Book_ID                          int64\n",
              "Book Title                      object\n",
              "Book Subtitle                   object\n",
              "Book Author                     object\n",
              "Book Narrator                   object\n",
              "Audio Runtime                   object\n",
              "Audiobook_Type                  object\n",
              "Categories                      object\n",
              "Rating                          object\n",
              "Total No. of Ratings           float64\n",
              "Price                           object\n",
              "date                            object\n",
              "conversion_rate                float64\n",
              "dtype: object"
            ]
          },
          "metadata": {},
          "execution_count": 37
        }
      ]
    },
    {
      "cell_type": "code",
      "source": [
        "# ลบ $ ออกจาก column price พร้อมแปลงเป็น float\n",
        "final_df[\"Price\"] = final_df.apply(lambda x: x[\"Price\"].replace(\"$\",\"\"), axis=1)\n",
        "final_df[\"Price\"] = final_df[\"Price\"].astype(float)"
      ],
      "metadata": {
        "id": "SJ_kLYNg7nqQ"
      },
      "execution_count": null,
      "outputs": []
    },
    {
      "cell_type": "code",
      "source": [
        "#เพิ่ม column 'THBPrice' ที่เกิดจาก column Price * conversion_rate\n",
        "final_df[\"THBPrice\"] = final_df[\"Price\"]*final_df[\"conversion_rate\"]"
      ],
      "metadata": {
        "id": "w2xDUTX37rIO"
      },
      "execution_count": null,
      "outputs": []
    },
    {
      "cell_type": "code",
      "source": [
        "#drop column ที่ไม่จำเป็นต้องใช้ได้ เช่น date ที่ซ้ำซ้อนกับ timestamp\n",
        "final_df = final_df.drop(\"date\", axis=1)"
      ],
      "metadata": {
        "id": "_1RPWMz572WB"
      },
      "execution_count": null,
      "outputs": []
    },
    {
      "cell_type": "code",
      "source": [
        "final_df.head(3)"
      ],
      "metadata": {
        "colab": {
          "base_uri": "https://localhost:8080/",
          "height": 381
        },
        "id": "k6VtmSfx7-A8",
        "outputId": "2fdfcde2-9ce0-448c-94af-2e0892f1b4b4"
      },
      "execution_count": null,
      "outputs": [
        {
          "output_type": "execute_result",
          "data": {
            "text/plain": [
              "            timestamp   user_id  book_id                   country  Book_ID  \\\n",
              "0 2021-05-01 00:00:01  ad8eca41     1584                  Portugal     1584   \n",
              "1 2021-05-01 00:00:03  561b26c1      829  United States of America      829   \n",
              "2 2021-05-01 00:00:04  81f149e5     1391                     Japan     1391   \n",
              "\n",
              "                         Book Title  \\\n",
              "0                      Sycamore Row   \n",
              "1  The 5 Love Languages of Children   \n",
              "2                     The Guardians   \n",
              "\n",
              "                               Book Subtitle   Book Author Book Narrator  \\\n",
              "0                                       None  John Grisham  Michael Beck   \n",
              "1  The Secret to Loving Children Effectively  Gary Chapman   Chris Fabry   \n",
              "2                                    A Novel  John Grisham  Michael Beck   \n",
              "\n",
              "        Audio Runtime        Audiobook_Type  \\\n",
              "0  20 hrs and 46 mins  Unabridged Audiobook   \n",
              "1   5 hrs and 48 mins  Unabridged Audiobook   \n",
              "2  11 hrs and 50 mins  Unabridged Audiobook   \n",
              "\n",
              "                                        Categories Rating  \\\n",
              "0                     Mystery, Thriller & Suspense    4.6   \n",
              "1  Relationships, Parenting & Personal Development    4.8   \n",
              "2                     Mystery, Thriller & Suspense    4.6   \n",
              "\n",
              "   Total No. of Ratings  Price  conversion_rate   THBPrice  \n",
              "0               25863.0  35.00            31.14  1089.9000  \n",
              "1                2441.0  19.59            31.14   610.0326  \n",
              "2               26781.0  31.50            31.14   980.9100  "
            ],
            "text/html": [
              "\n",
              "  <div id=\"df-d8db3021-832f-4e41-b65e-03e45438faf1\">\n",
              "    <div class=\"colab-df-container\">\n",
              "      <div>\n",
              "<style scoped>\n",
              "    .dataframe tbody tr th:only-of-type {\n",
              "        vertical-align: middle;\n",
              "    }\n",
              "\n",
              "    .dataframe tbody tr th {\n",
              "        vertical-align: top;\n",
              "    }\n",
              "\n",
              "    .dataframe thead th {\n",
              "        text-align: right;\n",
              "    }\n",
              "</style>\n",
              "<table border=\"1\" class=\"dataframe\">\n",
              "  <thead>\n",
              "    <tr style=\"text-align: right;\">\n",
              "      <th></th>\n",
              "      <th>timestamp</th>\n",
              "      <th>user_id</th>\n",
              "      <th>book_id</th>\n",
              "      <th>country</th>\n",
              "      <th>Book_ID</th>\n",
              "      <th>Book Title</th>\n",
              "      <th>Book Subtitle</th>\n",
              "      <th>Book Author</th>\n",
              "      <th>Book Narrator</th>\n",
              "      <th>Audio Runtime</th>\n",
              "      <th>Audiobook_Type</th>\n",
              "      <th>Categories</th>\n",
              "      <th>Rating</th>\n",
              "      <th>Total No. of Ratings</th>\n",
              "      <th>Price</th>\n",
              "      <th>conversion_rate</th>\n",
              "      <th>THBPrice</th>\n",
              "    </tr>\n",
              "  </thead>\n",
              "  <tbody>\n",
              "    <tr>\n",
              "      <th>0</th>\n",
              "      <td>2021-05-01 00:00:01</td>\n",
              "      <td>ad8eca41</td>\n",
              "      <td>1584</td>\n",
              "      <td>Portugal</td>\n",
              "      <td>1584</td>\n",
              "      <td>Sycamore Row</td>\n",
              "      <td>None</td>\n",
              "      <td>John Grisham</td>\n",
              "      <td>Michael Beck</td>\n",
              "      <td>20 hrs and 46 mins</td>\n",
              "      <td>Unabridged Audiobook</td>\n",
              "      <td>Mystery, Thriller &amp; Suspense</td>\n",
              "      <td>4.6</td>\n",
              "      <td>25863.0</td>\n",
              "      <td>35.00</td>\n",
              "      <td>31.14</td>\n",
              "      <td>1089.9000</td>\n",
              "    </tr>\n",
              "    <tr>\n",
              "      <th>1</th>\n",
              "      <td>2021-05-01 00:00:03</td>\n",
              "      <td>561b26c1</td>\n",
              "      <td>829</td>\n",
              "      <td>United States of America</td>\n",
              "      <td>829</td>\n",
              "      <td>The 5 Love Languages of Children</td>\n",
              "      <td>The Secret to Loving Children Effectively</td>\n",
              "      <td>Gary Chapman</td>\n",
              "      <td>Chris Fabry</td>\n",
              "      <td>5 hrs and 48 mins</td>\n",
              "      <td>Unabridged Audiobook</td>\n",
              "      <td>Relationships, Parenting &amp; Personal Development</td>\n",
              "      <td>4.8</td>\n",
              "      <td>2441.0</td>\n",
              "      <td>19.59</td>\n",
              "      <td>31.14</td>\n",
              "      <td>610.0326</td>\n",
              "    </tr>\n",
              "    <tr>\n",
              "      <th>2</th>\n",
              "      <td>2021-05-01 00:00:04</td>\n",
              "      <td>81f149e5</td>\n",
              "      <td>1391</td>\n",
              "      <td>Japan</td>\n",
              "      <td>1391</td>\n",
              "      <td>The Guardians</td>\n",
              "      <td>A Novel</td>\n",
              "      <td>John Grisham</td>\n",
              "      <td>Michael Beck</td>\n",
              "      <td>11 hrs and 50 mins</td>\n",
              "      <td>Unabridged Audiobook</td>\n",
              "      <td>Mystery, Thriller &amp; Suspense</td>\n",
              "      <td>4.6</td>\n",
              "      <td>26781.0</td>\n",
              "      <td>31.50</td>\n",
              "      <td>31.14</td>\n",
              "      <td>980.9100</td>\n",
              "    </tr>\n",
              "  </tbody>\n",
              "</table>\n",
              "</div>\n",
              "      <button class=\"colab-df-convert\" onclick=\"convertToInteractive('df-d8db3021-832f-4e41-b65e-03e45438faf1')\"\n",
              "              title=\"Convert this dataframe to an interactive table.\"\n",
              "              style=\"display:none;\">\n",
              "        \n",
              "  <svg xmlns=\"http://www.w3.org/2000/svg\" height=\"24px\"viewBox=\"0 0 24 24\"\n",
              "       width=\"24px\">\n",
              "    <path d=\"M0 0h24v24H0V0z\" fill=\"none\"/>\n",
              "    <path d=\"M18.56 5.44l.94 2.06.94-2.06 2.06-.94-2.06-.94-.94-2.06-.94 2.06-2.06.94zm-11 1L8.5 8.5l.94-2.06 2.06-.94-2.06-.94L8.5 2.5l-.94 2.06-2.06.94zm10 10l.94 2.06.94-2.06 2.06-.94-2.06-.94-.94-2.06-.94 2.06-2.06.94z\"/><path d=\"M17.41 7.96l-1.37-1.37c-.4-.4-.92-.59-1.43-.59-.52 0-1.04.2-1.43.59L10.3 9.45l-7.72 7.72c-.78.78-.78 2.05 0 2.83L4 21.41c.39.39.9.59 1.41.59.51 0 1.02-.2 1.41-.59l7.78-7.78 2.81-2.81c.8-.78.8-2.07 0-2.86zM5.41 20L4 18.59l7.72-7.72 1.47 1.35L5.41 20z\"/>\n",
              "  </svg>\n",
              "      </button>\n",
              "      \n",
              "  <style>\n",
              "    .colab-df-container {\n",
              "      display:flex;\n",
              "      flex-wrap:wrap;\n",
              "      gap: 12px;\n",
              "    }\n",
              "\n",
              "    .colab-df-convert {\n",
              "      background-color: #E8F0FE;\n",
              "      border: none;\n",
              "      border-radius: 50%;\n",
              "      cursor: pointer;\n",
              "      display: none;\n",
              "      fill: #1967D2;\n",
              "      height: 32px;\n",
              "      padding: 0 0 0 0;\n",
              "      width: 32px;\n",
              "    }\n",
              "\n",
              "    .colab-df-convert:hover {\n",
              "      background-color: #E2EBFA;\n",
              "      box-shadow: 0px 1px 2px rgba(60, 64, 67, 0.3), 0px 1px 3px 1px rgba(60, 64, 67, 0.15);\n",
              "      fill: #174EA6;\n",
              "    }\n",
              "\n",
              "    [theme=dark] .colab-df-convert {\n",
              "      background-color: #3B4455;\n",
              "      fill: #D2E3FC;\n",
              "    }\n",
              "\n",
              "    [theme=dark] .colab-df-convert:hover {\n",
              "      background-color: #434B5C;\n",
              "      box-shadow: 0px 1px 3px 1px rgba(0, 0, 0, 0.15);\n",
              "      filter: drop-shadow(0px 1px 2px rgba(0, 0, 0, 0.3));\n",
              "      fill: #FFFFFF;\n",
              "    }\n",
              "  </style>\n",
              "\n",
              "      <script>\n",
              "        const buttonEl =\n",
              "          document.querySelector('#df-d8db3021-832f-4e41-b65e-03e45438faf1 button.colab-df-convert');\n",
              "        buttonEl.style.display =\n",
              "          google.colab.kernel.accessAllowed ? 'block' : 'none';\n",
              "\n",
              "        async function convertToInteractive(key) {\n",
              "          const element = document.querySelector('#df-d8db3021-832f-4e41-b65e-03e45438faf1');\n",
              "          const dataTable =\n",
              "            await google.colab.kernel.invokeFunction('convertToInteractive',\n",
              "                                                     [key], {});\n",
              "          if (!dataTable) return;\n",
              "\n",
              "          const docLinkHtml = 'Like what you see? Visit the ' +\n",
              "            '<a target=\"_blank\" href=https://colab.research.google.com/notebooks/data_table.ipynb>data table notebook</a>'\n",
              "            + ' to learn more about interactive tables.';\n",
              "          element.innerHTML = '';\n",
              "          dataTable['output_type'] = 'display_data';\n",
              "          await google.colab.output.renderOutput(dataTable, element);\n",
              "          const docLink = document.createElement('div');\n",
              "          docLink.innerHTML = docLinkHtml;\n",
              "          element.appendChild(docLink);\n",
              "        }\n",
              "      </script>\n",
              "    </div>\n",
              "  </div>\n",
              "  "
            ]
          },
          "metadata": {},
          "execution_count": 34
        }
      ]
    },
    {
      "cell_type": "code",
      "source": [
        "#เซฟ final_df เป็นไฟล์ csv \n",
        "final_df.to_csv(\"output.csv\",index=False)"
      ],
      "metadata": {
        "id": "GGdpvQfp78EB"
      },
      "execution_count": null,
      "outputs": []
    }
  ]
}